{
 "cells": [
  {
   "cell_type": "markdown",
   "id": "24d4d67c-be2a-4f49-821d-9b3251263a23",
   "metadata": {},
   "source": [
    "# Membuat Variabel"
   ]
  },
  {
   "cell_type": "code",
   "execution_count": null,
   "id": "c1e45a9a-aa0f-4762-8833-9f0b7e18df07",
   "metadata": {},
   "outputs": [],
   "source": [
    "a = 5\n",
    "b = 10"
   ]
  },
  {
   "cell_type": "markdown",
   "id": "6f5ae5af-d56f-4e7a-a8dc-7b9cc033e1a1",
   "metadata": {},
   "source": [
    "# Melakukan Perhitungan\n"
   ]
  },
  {
   "cell_type": "code",
   "execution_count": null,
   "id": "dc2d23d6-06db-48d7-9ed9-1ab1794619c9",
   "metadata": {},
   "outputs": [],
   "source": [
    "jumlah = a + b\n",
    "produk = a * b"
   ]
  },
  {
   "cell_type": "markdown",
   "id": "c69a3832-6da5-49f9-9bdb-9a5d1bd4c208",
   "metadata": {},
   "source": [
    "# Menampilkan Hasil"
   ]
  },
  {
   "cell_type": "code",
   "execution_count": null,
   "id": "c02224b6-0e08-4234-a59a-8c406fb0929d",
   "metadata": {},
   "outputs": [],
   "source": [
    "print f\"Jumlah: {jumlah}\"\n",
    "print f\"Produk: {produk}\""
   ]
  },
  {
   "cell_type": "markdown",
   "id": "4c08757e-3a10-4220-bcdd-dbdf56ca17f7",
   "metadata": {},
   "source": [
    "# Membuat fungsi untuk menghitung luas persegi panjang"
   ]
  },
  {
   "cell_type": "code",
   "execution_count": null,
   "id": "94a4cc62-e049-4292-a0a5-b875e1cacbd6",
   "metadata": {},
   "outputs": [],
   "source": [
    "def luas_persegi_panjang(panjang, lebar):\n",
    "    return panjang * lebar"
   ]
  },
  {
   "cell_type": "markdown",
   "id": "3aebdb56-1cbc-458b-b8a9-0cf0477fd865",
   "metadata": {},
   "source": [
    "# Menggunakan fungsi"
   ]
  },
  {
   "cell_type": "code",
   "execution_count": null,
   "id": "00473300-4608-455f-bf30-ab8565592a35",
   "metadata": {},
   "outputs": [],
   "source": [
    "panjang = 7\n",
    "lebar = 3\n",
    "luas = luas_persegi_panjang(panjang, lebar)\n",
    "print f\"Luas persegi panjang dengan panjang {panjang} dan lebar {lebar} adalah {luas}\"\n"
   ]
  },
  {
   "cell_type": "code",
   "execution_count": 10,
   "id": "99e98edb-af3c-4b22-ad2f-18ee4a139b61",
   "metadata": {},
   "outputs": [],
   "source": [
    "import matplotlib.pyplot as plt"
   ]
  },
  {
   "cell_type": "code",
   "execution_count": null,
   "id": "5a11c9d1-02f9-48ab-a096-bebef97f59d3",
   "metadata": {},
   "outputs": [],
   "source": [
    "# Data sederhana\n",
    "x = [1, 2, 3, 4, 5]\n",
    "y = [2, 3, 5, 7, 11]\n"
   ]
  },
  {
   "cell_type": "code",
   "execution_count": null,
   "id": "24055a27-afd2-4646-9220-1afc10161c04",
   "metadata": {},
   "outputs": [],
   "source": [
    "# Membuat plot\n",
    "plt.plot(x, y, marker='o')"
   ]
  },
  {
   "cell_type": "code",
   "execution_count": 12,
   "id": "ab03ae4a-f420-4059-98bc-5d1b0b9b2d8d",
   "metadata": {},
   "outputs": [
    {
     "data": {
      "text/plain": [
       "Text(0, 0.5, 'Y')"
      ]
     },
     "execution_count": 12,
     "metadata": {},
     "output_type": "execute_result"
    },
    {
     "data": {
      "image/png": "[encoded data removed]",
      "text/plain": [
       "<Figure size 640x480 with 1 Axes>"
      ]
     },
     "metadata": {},
     "output_type": "display_data"
    }
   ],
   "source": [
    "# Menambahkan judul dan label\n",
    "plt.title('Plot Sederhana')\n",
    "plt.xlabel('X')\n",
    "plt.ylabel('Y')"
   ]
  },
  {
   "cell_type": "code",
   "execution_count": 13,
   "id": "73e88db0-8b0e-4116-9273-586676ebc72e",
   "metadata": {},
   "outputs": [],
   "source": [
    "import pandas as pd"
   ]
  },
  {
   "cell_type": "code",
   "execution_count": 14,
   "id": "37832a1f-8a29-4aa6-9d99-927d564150bf",
   "metadata": {},
   "outputs": [],
   "source": [
    "# Data sederhana\n",
    "data = {\n",
    "    'Nama': ['Andi', 'Budi', 'Citra'],\n",
    "    'Usia': [23, 25, 21]\n",
    "}\n"
   ]
  },
  {
   "cell_type": "code",
   "execution_count": 15,
   "id": "7fc3fc04-e849-4110-bb4f-61c7b014cdd4",
   "metadata": {},
   "outputs": [],
   "source": [
    "# Membuat DataFrame\n",
    "df = pd.DataFrame(data)"
   ]
  },
  {
   "cell_type": "code",
   "execution_count": 17,
   "id": "ce0a61ec-25a7-4a8d-b2bd-566bf4603ad4",
   "metadata": {},
   "outputs": [
    {
     "name": "stdout",
     "output_type": "stream",
     "text": [
      "    Nama  Usia\n",
      "0   Andi    23\n",
      "1   Budi    25\n",
      "2  Citra    21\n"
     ]
    }
   ],
   "source": [
    "# Menampilkan DataFrame\n",
    "print(df)"
   ]
  },
  {
   "cell_type": "code",
   "execution_count": null,
   "id": "6b68fe55-9461-48fe-815b-6ece2e29ef25",
   "metadata": {},
   "outputs": [],
   "source": []
  }
 ],
 "metadata": {
  "kernelspec": {
   "display_name": "Python 3 (ipykernel)",
   "language": "python",
   "name": "python3"
  },
  "language_info": {
   "codemirror_mode": {
    "name": "ipython",
    "version": 3
   },
   "file_extension": ".py",
   "mimetype": "text/x-python",
   "name": "python",
   "nbconvert_exporter": "python",
   "pygments_lexer": "ipython3",
   "version": "3.11.7"
  }
 },
 "nbformat": 4,
 "nbformat_minor": 5
}
